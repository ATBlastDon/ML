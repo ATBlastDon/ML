{
  "cells": [
    {
      "cell_type": "markdown",
      "metadata": {},
      "source": [
        "**9. Dimensionality Reduction using Principal Component Analysis**"
      ]
    },
    {
      "cell_type": "code",
      "execution_count": null,
      "metadata": {
        "id": "2r8aoK-0MqiE"
      },
      "outputs": [],
      "source": [
        "import sklearn\n",
        "from sklearn.datasets import  load_digits\n",
        "from sklearn.model_selection import train_test_split\n",
        "from sklearn.decomposition import PCA\n"
      ]
    },
    {
      "cell_type": "code",
      "execution_count": null,
      "metadata": {
        "colab": {
          "base_uri": "https://localhost:8080/"
        },
        "id": "MpoT9Z7gM00n",
        "outputId": "510fa5ca-62ae-4c1a-cd65-dda420a0f42f"
      },
      "outputs": [
        {
          "name": "stdout",
          "output_type": "stream",
          "text": [
            "(1437, 64)\n"
          ]
        }
      ],
      "source": [
        "digits = load_digits()\n",
        "X = digits.data\n",
        "y = digits.target\n",
        "X_train, X_test, y_train, y_test = train_test_split(X, y, test_size=0.2,\n",
        "random_state=1)\n",
        "print(X_train.shape)"
      ]
    },
    {
      "cell_type": "code",
      "execution_count": null,
      "metadata": {
        "colab": {
          "base_uri": "https://localhost:8080/"
        },
        "id": "NxXKTXS4M5sy",
        "outputId": "60d22186-3d8a-4171-b38c-ac4d394b080c"
      },
      "outputs": [
        {
          "name": "stdout",
          "output_type": "stream",
          "text": [
            "(1437, 28)\n",
            "(360, 64)\n",
            "(360, 28)\n"
          ]
        }
      ],
      "source": [
        "sklearn_pca = PCA(n_components=0.95)\n",
        "sklearn_pca.fit(X_train)\n",
        "X_train_transformed = sklearn_pca.transform(X_train)\n",
        "print(X_train_transformed.shape)\n",
        "print(X_test.shape)\n",
        "X_test_transformed =sklearn_pca.transform(X_test)\n",
        "print(X_test_transformed.shape)"
      ]
    }
  ],
  "metadata": {
    "colab": {
      "provenance": []
    },
    "kernelspec": {
      "display_name": "Python 3",
      "name": "python3"
    },
    "language_info": {
      "name": "python"
    }
  },
  "nbformat": 4,
  "nbformat_minor": 0
}
