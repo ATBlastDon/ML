{
  "cells": [
    {
      "cell_type": "markdown",
      "metadata": {},
      "source": [
        "**7. McCulloch_Pitts - AND gate**"
      ]
    },
    {
      "cell_type": "code",
      "execution_count": null,
      "metadata": {
        "colab": {
          "base_uri": "https://localhost:8080/"
        },
        "id": "yNa6kIsmLtap",
        "outputId": "079724f7-126a-4342-de27-e9829294178b"
      },
      "outputs": [
        {
          "name": "stdout",
          "output_type": "stream",
          "text": [
            "Input vector:[1 0 1], Weight vector:[1 1 1]\n",
            "Dot product: 2\n",
            "When Threshold =3, Activation: 0\n"
          ]
        }
      ],
      "source": [
        "import numpy as np\n",
        "\n",
        "I = np.random.choice([0,1], 3)\n",
        "\n",
        "W = np.array([1,1,1])\n",
        "\n",
        "print(f'Input vector:{I}, Weight vector:{W}')\n",
        "\n",
        "dot = I @ W\n",
        "print(f'Dot product: {dot}')\n",
        "\n",
        "def linear_threshold_gate(dot: int, T: float) -> int:\n",
        "    '''Returns the binary threshold output'''\n",
        "    if dot >= T:\n",
        "        return 1\n",
        "    else:\n",
        "        return 0\n",
        "\n",
        "T = 3\n",
        "activation = linear_threshold_gate(dot, T)\n",
        "print(f'When Threshold =3, Activation: {activation}')"
      ]
    }
  ],
  "metadata": {
    "colab": {
      "provenance": []
    },
    "kernelspec": {
      "display_name": "Python 3",
      "name": "python3"
    },
    "language_info": {
      "name": "python"
    }
  },
  "nbformat": 4,
  "nbformat_minor": 0
}
