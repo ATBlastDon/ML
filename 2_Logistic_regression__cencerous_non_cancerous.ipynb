{
  "cells": [
    {
      "cell_type": "markdown",
      "metadata": {},
      "source": [
        "**2. Logistic Regression - cancerous or non-cancerous**"
      ]
    },
    {
      "cell_type": "code",
      "execution_count": null,
      "metadata": {
        "id": "7F-8oy8i8Th-"
      },
      "outputs": [],
      "source": [
        "import numpy\n",
        "from sklearn import linear_model\n",
        "import sklearn\n",
        "from sklearn.datasets import  load_digits"
      ]
    },
    {
      "cell_type": "code",
      "execution_count": null,
      "metadata": {
        "colab": {
          "base_uri": "https://localhost:8080/",
          "height": 74
        },
        "id": "4lGsgvo58Zy7",
        "outputId": "7bdba3f5-1875-4406-b637-1e1a4060cecd"
      },
      "outputs": [],
      "source": [
        "X = numpy.array([3.78, 2.44, 2.09, 0.14, 1.72, 1.65, 4.92, 4.37, 4.96, 4.52, 3.69, 5.88]).reshape(-1,1)\n",
        "y = numpy.array([0, 0, 0, 0, 0, 0, 1, 1, 1, 1, 1, 1])\n",
        "\n",
        "logr = linear_model.LogisticRegression()\n",
        "logr.fit(X,y)"
      ]
    },
    {
      "cell_type": "code",
      "execution_count": null,
      "metadata": {
        "colab": {
          "base_uri": "https://localhost:8080/"
        },
        "id": "z1PUtBec8vC3",
        "outputId": "5a873607-8863-40dc-9393-5f8b473ebe67"
      },
      "outputs": [],
      "source": [
        "def logit2prob(logr, X):\n",
        "    log_odds = logr.coef_ * X + logr.intercept_\n",
        "    odds = numpy.exp(log_odds)\n",
        "    probability = odds / (1 + odds)\n",
        "    return(probability)\n",
        "\n",
        "print(logit2prob(logr, X))"
      ]
    }
  ],
  "metadata": {
    "colab": {
      "provenance": []
    },
    "kernelspec": {
      "display_name": "Python 3",
      "name": "python3"
    },
    "language_info": {
      "name": "python",
      "version": "3.12.2"
    }
  },
  "nbformat": 4,
  "nbformat_minor": 0
}
