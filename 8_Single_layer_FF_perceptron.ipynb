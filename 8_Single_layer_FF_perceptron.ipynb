{
  "cells": [
    {
      "cell_type": "markdown",
      "metadata": {},
      "source": [
        "**8. Single Layer FF Perceptron - AND and OR gate classification**"
      ]
    },
    {
      "cell_type": "code",
      "execution_count": null,
      "metadata": {
        "colab": {
          "base_uri": "https://localhost:8080/"
        },
        "id": "HsZfX5fOMP7o",
        "outputId": "823b8154-b04c-49b1-ce0c-4380babefe4f"
      },
      "outputs": [
        {
          "name": "stdout",
          "output_type": "stream",
          "text": [
            "[ 2.  1. -3.]\n",
            "[ 1.  1. -1.]\n",
            "0\n",
            "1\n"
          ]
        }
      ],
      "source": [
        "import numpy as np\n",
        "\n",
        "class Perceptron:\n",
        "    def __init__(self, input_size, lr=1, epochs=10):\n",
        "        self.W = np.zeros(input_size+1)\n",
        "        self.epochs = epochs\n",
        "        self.lr = lr\n",
        "\n",
        "    def activation_fn(self, x):\n",
        "        return 1 if x >= 0 else 0\n",
        "\n",
        "    def predict(self, x):\n",
        "        z = self.W.T.dot(x)\n",
        "        a = self.activation_fn(z)\n",
        "        return a\n",
        "\n",
        "    def fit(self, X, d):\n",
        "        for epoch in range(self.epochs):\n",
        "            for i in range(d.shape[0]):\n",
        "                x = np.insert(X[i], 2, 1)\n",
        "                y = self.predict(x)\n",
        "                e = d[i] - y\n",
        "                self.W = self.W + self.lr * e * x\n",
        "\n",
        "#For AND Gate\n",
        "X1 = np.array([[0, 0], [0, 1], [1, 0], [1, 1]])\n",
        "d1 = np.array([0, 0, 0, 1])\n",
        "\n",
        "#For OR Gate\n",
        "X2 = np.array([[0, 0], [0, 1], [1, 0], [1, 1]])\n",
        "d2 = np.array([0, 1, 1, 1])\n",
        "\n",
        "perceptron1 = Perceptron(input_size=2)\n",
        "perceptron1.fit(X1, d1)\n",
        "\n",
        "\n",
        "perceptron2 = Perceptron(input_size=2)\n",
        "perceptron2.fit(X2, d2)\n",
        "\n",
        "print(perceptron1.W)\n",
        "\n",
        "print(perceptron2.W)\n",
        "\n",
        "\n",
        "test_in=np.array([1, 0, 1])\n",
        "AND_prediction=perceptron1.predict(test_in)\n",
        "print(AND_prediction)\n",
        "\n",
        "OR_prediction=perceptron2.predict(test_in)\n",
        "print(OR_prediction)"
      ]
    }
  ],
  "metadata": {
    "colab": {
      "provenance": []
    },
    "kernelspec": {
      "display_name": "Python 3",
      "name": "python3"
    },
    "language_info": {
      "name": "python"
    }
  },
  "nbformat": 4,
  "nbformat_minor": 0
}
